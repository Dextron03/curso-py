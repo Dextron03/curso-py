{
 "cells": [
  {
   "cell_type": "code",
   "execution_count": 4,
   "metadata": {},
   "outputs": [],
   "source": [
    "### Strings ###\n",
    "my_string = \"Mi String\"\n",
    "my_other_string = 'Mi otro String'"
   ]
  },
  {
   "cell_type": "code",
   "execution_count": 7,
   "metadata": {},
   "outputs": [
    {
     "name": "stdout",
     "output_type": "stream",
     "text": [
      "9\n",
      "14\n"
     ]
    }
   ],
   "source": [
    "print(len(my_string))\n",
    "print(len(my_other_string))"
   ]
  },
  {
   "cell_type": "code",
   "execution_count": 11,
   "metadata": {},
   "outputs": [
    {
     "name": "stdout",
     "output_type": "stream",
     "text": [
      "Mi String --- Mi otro String\n"
     ]
    }
   ],
   "source": [
    "print(f\"{my_string} --- {my_other_string}\")"
   ]
  },
  {
   "cell_type": "code",
   "execution_count": 13,
   "metadata": {},
   "outputs": [
    {
     "name": "stdout",
     "output_type": "stream",
     "text": [
      "Este es un string \n",
      " con salto de linea\n"
     ]
    }
   ],
   "source": [
    "my_new_line_string = \"Este es un string \\n con salto de linea\" #\\n = es para hacer saltos de linea\n",
    "print(my_new_line_string)"
   ]
  },
  {
   "cell_type": "code",
   "execution_count": 15,
   "metadata": {},
   "outputs": [
    {
     "name": "stdout",
     "output_type": "stream",
     "text": [
      "\tEste es un string con tabulacion\n"
     ]
    }
   ],
   "source": [
    "my_tab_string = \"\\tEste es un string con tabulacion\" #\\t = para que el string a parececa con una tabulacion\n",
    "print(my_tab_string)\n"
   ]
  },
  {
   "cell_type": "code",
   "execution_count": 20,
   "metadata": {},
   "outputs": [
    {
     "name": "stdout",
     "output_type": "stream",
     "text": [
      "\\t Este string es \\n escapado\n"
     ]
    }
   ],
   "source": [
    "my_scape_string = \"\\t Este string es \\n escapado\"\n",
    "print(my_scape_string)"
   ]
  },
  {
   "cell_type": "code",
   "execution_count": 46,
   "metadata": {},
   "outputs": [
    {
     "name": "stdout",
     "output_type": "stream",
     "text": [
      "Mi nombre es Braily Roman y mi edad es 17\n",
      "Mi nombre es Braily Roman y mi edad es 17\n",
      "Mi nombre es Braily Roman y mi edad es 17\n",
      "Mi nombre es Braily Roman y mi edad es 17\n"
     ]
    }
   ],
   "source": [
    "### Formateo ###\n",
    "name,surname,age = \"Braily\", \"Roman\", 17\n",
    "\n",
    "print(f\"Mi nombre es {name} {surname} y mi edad es {age}\") #\"f-strings\" (cadenas literales formateadas)\n",
    "\n",
    "#Interpolación de cadenas\n",
    "print(\"Mi nombre es %s %s y mi edad es %d\"%(name,surname,age)) \n",
    "# %s: para los strings\n",
    "# %d para los enteros\n",
    "# %f para los floats\n",
    "#############################################################\n",
    "\n",
    "print(\"Mi nombre es {} {} y mi edad es {}\".format(name,surname,age)) #Formateo de cadenas con el método\n",
    "\n",
    "print(\"Mi nombre es \"+ name +\" \"+ surname + \" y mi edad es\" +\" \"+ str(age))#Concatenación de cadenas\n"
   ]
  }
 ],
 "metadata": {
  "kernelspec": {
   "display_name": "Python 3",
   "language": "python",
   "name": "python3"
  },
  "language_info": {
   "codemirror_mode": {
    "name": "ipython",
    "version": 3
   },
   "file_extension": ".py",
   "mimetype": "text/x-python",
   "name": "python",
   "nbconvert_exporter": "python",
   "pygments_lexer": "ipython3",
   "version": "3.11.3"
  },
  "orig_nbformat": 4
 },
 "nbformat": 4,
 "nbformat_minor": 2
}
