{
 "cells": [
  {
   "cell_type": "code",
   "execution_count": 68,
   "metadata": {},
   "outputs": [],
   "source": [
    "## Tuplas ##\n",
    "my_tuple = tuple()\n",
    "my_other_tuple = ()"
   ]
  },
  {
   "cell_type": "code",
   "execution_count": 69,
   "metadata": {},
   "outputs": [
    {
     "name": "stdout",
     "output_type": "stream",
     "text": [
      "(35, 1.8, 'Braily', 'Roman')\n",
      "<class 'tuple'>\n"
     ]
    }
   ],
   "source": [
    "my_tuple = (35, 1.80, \"Braily\", \"Roman\")\n",
    "my_other_tuple = (35,17,39)\n",
    "print(my_tuple)\n",
    "print (type(my_tuple))"
   ]
  },
  {
   "cell_type": "code",
   "execution_count": 70,
   "metadata": {},
   "outputs": [
    {
     "name": "stdout",
     "output_type": "stream",
     "text": [
      "35\n",
      "Roman\n"
     ]
    },
    {
     "data": {
      "text/plain": [
       "' print(my_tuple[4]) Error: IndexError\\nprint(my_tuple[-6]) Error: IndexError'"
      ]
     },
     "execution_count": 70,
     "metadata": {},
     "output_type": "execute_result"
    }
   ],
   "source": [
    "print(my_tuple[0])\n",
    "print(my_tuple[-1])\n",
    "\"\"\" print(my_tuple[4]) Error: IndexError\n",
    "print(my_tuple[-6]) Error: IndexError\"\"\""
   ]
  },
  {
   "cell_type": "code",
   "execution_count": 71,
   "metadata": {},
   "outputs": [
    {
     "name": "stdout",
     "output_type": "stream",
     "text": [
      "0\n",
      "3\n"
     ]
    }
   ],
   "source": [
    "print(my_tuple.count(\"Seberino\"))\n",
    "print(my_tuple.index(\"Roman\"))\n"
   ]
  },
  {
   "cell_type": "code",
   "execution_count": 72,
   "metadata": {},
   "outputs": [
    {
     "name": "stdout",
     "output_type": "stream",
     "text": [
      "(35, 1.8, 'Braily', 'Roman')\n",
      "(35, 17, 39, 35, 1.8, 'Braily', 'Roman')\n"
     ]
    }
   ],
   "source": [
    "\"\"\" my_tuple[5] = 1.89 \"\"\"\n",
    "print(my_tuple)\n",
    "print(my_other_tuple + my_tuple)\n",
    "# Las tuplas no pueden ser modificas, sus valores son constantes"
   ]
  },
  {
   "cell_type": "code",
   "execution_count": 73,
   "metadata": {},
   "outputs": [
    {
     "name": "stdout",
     "output_type": "stream",
     "text": [
      "(35, 1.8, 'Braily', 'Roman', 35, 17, 39)\n",
      "('Roman',)\n"
     ]
    }
   ],
   "source": [
    "my_sum_tuple = my_tuple + my_other_tuple\n",
    "print(my_sum_tuple)\n",
    "print(my_sum_tuple[3:4])\n"
   ]
  },
  {
   "cell_type": "code",
   "execution_count": 74,
   "metadata": {},
   "outputs": [
    {
     "name": "stdout",
     "output_type": "stream",
     "text": [
      "<class 'list'>\n",
      "[35, 1.8, 'Braily', 'Roman']\n"
     ]
    }
   ],
   "source": [
    "my_tuple=list(my_tuple)\n",
    "print(type(my_tuple))\n",
    "print(my_tuple)\n"
   ]
  },
  {
   "cell_type": "code",
   "execution_count": 75,
   "metadata": {},
   "outputs": [
    {
     "name": "stdout",
     "output_type": "stream",
     "text": [
      "(35, 'Rojo-vino', 1.8, 'Braily', 'Seberino')\n",
      "<class 'tuple'>\n",
      "5\n"
     ]
    }
   ],
   "source": [
    "\n",
    "my_tuple[3] = \"Seberino\"\n",
    "my_tuple.insert(1, \"Rojo-vino\")\n",
    "my_tuple = tuple(my_tuple)\n",
    "print(my_tuple)\n",
    "print(type(my_tuple))\n",
    "print(len(my_tuple))"
   ]
  },
  {
   "cell_type": "code",
   "execution_count": 52,
   "metadata": {},
   "outputs": [
    {
     "ename": "NameError",
     "evalue": "name 'my_tuple' is not defined",
     "output_type": "error",
     "traceback": [
      "\u001b[1;31m---------------------------------------------------------------------------\u001b[0m",
      "\u001b[1;31mNameError\u001b[0m                                 Traceback (most recent call last)",
      "Cell \u001b[1;32mIn[52], line 1\u001b[0m\n\u001b[1;32m----> 1\u001b[0m \u001b[39mdel\u001b[39;00m my_tuple[\u001b[39m2\u001b[39m]\n\u001b[0;32m      2\u001b[0m \u001b[39mdel\u001b[39;00m my_tuple \n\u001b[0;32m      3\u001b[0m \u001b[39mprint\u001b[39m(my_tuple)\n",
      "\u001b[1;31mNameError\u001b[0m: name 'my_tuple' is not defined"
     ]
    }
   ],
   "source": [
    "\"\"\" del my_tuple[2] En las tuplas tampoco podemos borrar datos\"\"\"\n",
    "\"\"\" del my_tuple \n",
    "print(my_tuple)\n",
    " \"\"\"\n"
   ]
  }
 ],
 "metadata": {
  "kernelspec": {
   "display_name": "Python 3",
   "language": "python",
   "name": "python3"
  },
  "language_info": {
   "codemirror_mode": {
    "name": "ipython",
    "version": 3
   },
   "file_extension": ".py",
   "mimetype": "text/x-python",
   "name": "python",
   "nbconvert_exporter": "python",
   "pygments_lexer": "ipython3",
   "version": "3.11.3"
  },
  "orig_nbformat": 4
 },
 "nbformat": 4,
 "nbformat_minor": 2
}
