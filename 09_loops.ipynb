{
 "cells": [
  {
   "cell_type": "code",
   "execution_count": 65,
   "metadata": {},
   "outputs": [
    {
     "name": "stdout",
     "output_type": "stream",
     "text": [
      "0\n",
      "2\n",
      "4\n",
      "6\n",
      "8\n",
      "Mi condicion es igual o mayor a 10\n"
     ]
    }
   ],
   "source": [
    "## LOOP ##\n",
    "\n",
    "#Wihile\n",
    "my_condition = 0\n",
    "\n",
    "while my_condition < 10:\n",
    "  print(my_condition)\n",
    "  my_condition += 2\n",
    "else:\n",
    "  print(\"Mi condicion es igual o mayor a 10\")\n"
   ]
  },
  {
   "cell_type": "code",
   "execution_count": 66,
   "metadata": {},
   "outputs": [
    {
     "name": "stdout",
     "output_type": "stream",
     "text": [
      "0\n",
      "2\n",
      "4\n",
      "6\n",
      "8\n",
      "Mi condicion es igual a 10\n"
     ]
    }
   ],
   "source": [
    "my_condition = 0\n",
    "\n",
    "while my_condition < 10:\n",
    "  print(my_condition)\n",
    "  my_condition += 2\n",
    "\n",
    "if my_condition == 10:\n",
    "  print(\"Mi condicion es igual a 10\")\n",
    "else:\n",
    "  print(\"Mi condicion es igual o mayor a 10\")\n",
    "  "
   ]
  },
  {
   "cell_type": "code",
   "execution_count": 67,
   "metadata": {},
   "outputs": [
    {
     "name": "stdout",
     "output_type": "stream",
     "text": [
      "10\n",
      "11\n",
      "12\n",
      "13\n",
      "14\n",
      "Se detiene la ejecucion.\n"
     ]
    }
   ],
   "source": [
    "while my_condition < 20:\n",
    "  print(my_condition)\n",
    "  my_condition +=1\n",
    "  if my_condition == 15:\n",
    "    print(\"Se detiene la ejecucion.\")\n",
    "    break"
   ]
  }
 ],
 "metadata": {
  "kernelspec": {
   "display_name": "Python 3",
   "language": "python",
   "name": "python3"
  },
  "language_info": {
   "codemirror_mode": {
    "name": "ipython",
    "version": 3
   },
   "file_extension": ".py",
   "mimetype": "text/x-python",
   "name": "python",
   "nbconvert_exporter": "python",
   "pygments_lexer": "ipython3",
   "version": "3.11.3"
  },
  "orig_nbformat": 4
 },
 "nbformat": 4,
 "nbformat_minor": 2
}
