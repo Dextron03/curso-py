{
 "cells": [
  {
   "cell_type": "code",
   "execution_count": 33,
   "metadata": {},
   "outputs": [],
   "source": [
    "## Tuplas ##\n",
    "my_tuple = tuple()\n",
    "my_other_tuple = ()"
   ]
  },
  {
   "cell_type": "code",
   "execution_count": 34,
   "metadata": {},
   "outputs": [
    {
     "name": "stdout",
     "output_type": "stream",
     "text": [
      "(35, 1.8, 'Braily', 'Roman')\n",
      "<class 'tuple'>\n"
     ]
    }
   ],
   "source": [
    "my_tuple = (35, 1.80, \"Braily\", \"Roman\")\n",
    "my_other_tuple = (35,17,39)\n",
    "print(my_tuple)\n",
    "print (type(my_tuple))"
   ]
  },
  {
   "cell_type": "code",
   "execution_count": 35,
   "metadata": {},
   "outputs": [
    {
     "name": "stdout",
     "output_type": "stream",
     "text": [
      "35\n",
      "Roman\n"
     ]
    },
    {
     "data": {
      "text/plain": [
       "' print(my_tuple[4]) Error: IndexError\\nprint(my_tuple[-6]) Error: IndexError'"
      ]
     },
     "execution_count": 35,
     "metadata": {},
     "output_type": "execute_result"
    }
   ],
   "source": [
    "print(my_tuple[0])\n",
    "print(my_tuple[-1])\n",
    "\"\"\" print(my_tuple[4]) Error: IndexError\n",
    "print(my_tuple[-6]) Error: IndexError\"\"\""
   ]
  },
  {
   "cell_type": "code",
   "execution_count": 36,
   "metadata": {},
   "outputs": [
    {
     "name": "stdout",
     "output_type": "stream",
     "text": [
      "0\n",
      "3\n"
     ]
    }
   ],
   "source": [
    "print(my_tuple.count(\"Seberino\"))\n",
    "print(my_tuple.index(\"Roman\"))\n"
   ]
  },
  {
   "cell_type": "code",
   "execution_count": 37,
   "metadata": {},
   "outputs": [
    {
     "name": "stdout",
     "output_type": "stream",
     "text": [
      "(35, 1.8, 'Braily', 'Roman')\n",
      "(35, 17, 39, 35, 1.8, 'Braily', 'Roman')\n"
     ]
    }
   ],
   "source": [
    "\"\"\" my_tuple[5] = 1.89 \"\"\"\n",
    "print(my_tuple)\n",
    "print(my_other_tuple + my_tuple)\n",
    "# Las tuplas no pueden ser modificas, sus valores son constantes"
   ]
  },
  {
   "cell_type": "code",
   "execution_count": 40,
   "metadata": {},
   "outputs": [
    {
     "name": "stdout",
     "output_type": "stream",
     "text": [
      "(35, 1.8, 'Braily', 'Roman', 35, 17, 39)\n",
      "('Roman',)\n"
     ]
    }
   ],
   "source": [
    "my_sum_tuple = my_tuple + my_other_tuple\n",
    "print(my_sum_tuple)\n",
    "print(my_sum_tuple[3:4])\n"
   ]
  },
  {
   "cell_type": "code",
   "execution_count": 49,
   "metadata": {},
   "outputs": [
    {
     "name": "stdout",
     "output_type": "stream",
     "text": [
      "<class 'list'>\n",
      "[35, 'Rojo-vino', 'Rojo-vino', 'Rojo-vino', 'Seberino', 'Seberino', 'Seberino', 'Seberino']\n"
     ]
    }
   ],
   "source": [
    "my_tuple=list(my_tuple)\n",
    "print(type(my_tuple))\n",
    "print(my_tuple)\n"
   ]
  },
  {
   "cell_type": "code",
   "execution_count": 50,
   "metadata": {},
   "outputs": [
    {
     "name": "stdout",
     "output_type": "stream",
     "text": [
      "(35, 'Rojo-vino', 'Rojo-vino', 'Rojo-vino', 'Seberino', 'Seberino', 'Seberino', 'Seberino', 'Seberino')\n",
      "<class 'tuple'>\n"
     ]
    }
   ],
   "source": [
    "\n",
    "my_tuple[3] = \"Seberino\"\n",
    "my_tuple.insert(1, \"Rojo-vino\")\n",
    "my_tuple = tuple(my_tuple)\n",
    "print(my_tuple)\n",
    "print(type(my_tuple))\n"
   ]
  }
 ],
 "metadata": {
  "kernelspec": {
   "display_name": "Python 3",
   "language": "python",
   "name": "python3"
  },
  "language_info": {
   "codemirror_mode": {
    "name": "ipython",
    "version": 3
   },
   "file_extension": ".py",
   "mimetype": "text/x-python",
   "name": "python",
   "nbconvert_exporter": "python",
   "pygments_lexer": "ipython3",
   "version": "3.11.3"
  },
  "orig_nbformat": 4
 },
 "nbformat": 4,
 "nbformat_minor": 2
}
