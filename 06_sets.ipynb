{
 "cells": [
  {
   "cell_type": "code",
   "execution_count": 26,
   "metadata": {},
   "outputs": [
    {
     "name": "stdout",
     "output_type": "stream",
     "text": [
      "<class 'set'>\n",
      "<class 'dict'>\n"
     ]
    }
   ],
   "source": [
    "## Sets ##\n",
    "my_set = set()\n",
    "my_other_set = {}\n",
    "print(type(my_set))\n",
    "print(type(my_other_set))# Inicialmente es un diccionario\n"
   ]
  },
  {
   "cell_type": "code",
   "execution_count": 27,
   "metadata": {},
   "outputs": [
    {
     "name": "stdout",
     "output_type": "stream",
     "text": [
      "<class 'set'>\n"
     ]
    }
   ],
   "source": [
    "my_other_set = {\"Braily\",\"Roman\",17}\n",
    "print(type(my_other_set))"
   ]
  },
  {
   "cell_type": "code",
   "execution_count": 28,
   "metadata": {},
   "outputs": [
    {
     "name": "stdout",
     "output_type": "stream",
     "text": [
      "3\n"
     ]
    }
   ],
   "source": [
    "print(len(my_other_set))"
   ]
  },
  {
   "cell_type": "code",
   "execution_count": 29,
   "metadata": {},
   "outputs": [
    {
     "name": "stdout",
     "output_type": "stream",
     "text": [
      "{17, 'Braily', 'Roman', 'Dextron'}\n"
     ]
    }
   ],
   "source": [
    "my_other_set.add(\"Dextron\")\n",
    "print(my_other_set) # Un set no es una estructura ordenada\n",
    "# Un set no adminte repetidos \n"
   ]
  },
  {
   "cell_type": "code",
   "execution_count": 30,
   "metadata": {},
   "outputs": [
    {
     "name": "stdout",
     "output_type": "stream",
     "text": [
      "True\n",
      "False\n"
     ]
    }
   ],
   "source": [
    "print(f\"Braily\" in my_other_set)\n",
    "print(f\"Brailin\" in my_other_set)\n"
   ]
  },
  {
   "cell_type": "code",
   "execution_count": 31,
   "metadata": {},
   "outputs": [
    {
     "name": "stdout",
     "output_type": "stream",
     "text": [
      "{17, 'Braily', 'Roman'}\n"
     ]
    }
   ],
   "source": [
    "my_other_set.remove(\"Dextron\")\n",
    "print(my_other_set)"
   ]
  },
  {
   "cell_type": "code",
   "execution_count": 32,
   "metadata": {},
   "outputs": [
    {
     "name": "stdout",
     "output_type": "stream",
     "text": [
      "0\n"
     ]
    }
   ],
   "source": [
    "my_other_set.clear()\n",
    "print(len(my_other_set))"
   ]
  },
  {
   "cell_type": "code",
   "execution_count": 33,
   "metadata": {},
   "outputs": [
    {
     "name": "stdout",
     "output_type": "stream",
     "text": [
      "[17, 'Braily', 'Roman']\n",
      "17\n"
     ]
    }
   ],
   "source": [
    "del my_other_set\n",
    "# print(my_other_set) NameError: name 'my_other_set' is not defined\n",
    "\n",
    "my_set = {\"Braily\",\"Roman\",17}\n",
    "my_list = list(my_set)\n",
    "print(my_list)\n",
    "print(my_list[0])"
   ]
  },
  {
   "cell_type": "code",
   "execution_count": 42,
   "metadata": {},
   "outputs": [
    {
     "name": "stdout",
     "output_type": "stream",
     "text": [
      "{'Python', 17, 'Braily', 'PHP', 'C#', 'SQL', 'Roman'}\n"
     ]
    }
   ],
   "source": [
    "my_other_set = {\"C#\",\"Python\",\"SQL\"}\n",
    "my_new_set = my_set.union(my_other_set)\n",
    "print(my_new_set.union(my_new_set).union({\"PHP\"}))# Recuerda no acepta repetidos"
   ]
  },
  {
   "cell_type": "code",
   "execution_count": 43,
   "metadata": {},
   "outputs": [
    {
     "name": "stdout",
     "output_type": "stream",
     "text": [
      "{'C#', 'SQL', 'Python'}\n"
     ]
    }
   ],
   "source": [
    "print(my_new_set.difference(my_set))"
   ]
  }
 ],
 "metadata": {
  "kernelspec": {
   "display_name": "Python 3",
   "language": "python",
   "name": "python3"
  },
  "language_info": {
   "codemirror_mode": {
    "name": "ipython",
    "version": 3
   },
   "file_extension": ".py",
   "mimetype": "text/x-python",
   "name": "python",
   "nbconvert_exporter": "python",
   "pygments_lexer": "ipython3",
   "version": "3.11.3"
  },
  "orig_nbformat": 4
 },
 "nbformat": 4,
 "nbformat_minor": 2
}
