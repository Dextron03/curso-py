{
 "cells": [
  {
   "cell_type": "code",
   "execution_count": 4,
   "metadata": {},
   "outputs": [],
   "source": [
    "### Strings ###\n",
    "my_string = \"Mi String\"\n",
    "my_other_string = 'Mi otro String'"
   ]
  },
  {
   "cell_type": "code",
   "execution_count": 7,
   "metadata": {},
   "outputs": [
    {
     "name": "stdout",
     "output_type": "stream",
     "text": [
      "9\n",
      "14\n"
     ]
    }
   ],
   "source": [
    "print(len(my_string))\n",
    "print(len(my_other_string))"
   ]
  },
  {
   "cell_type": "code",
   "execution_count": 11,
   "metadata": {},
   "outputs": [
    {
     "name": "stdout",
     "output_type": "stream",
     "text": [
      "Mi String --- Mi otro String\n"
     ]
    }
   ],
   "source": [
    "print(f\"{my_string} --- {my_other_string}\")"
   ]
  },
  {
   "cell_type": "code",
   "execution_count": 13,
   "metadata": {},
   "outputs": [
    {
     "name": "stdout",
     "output_type": "stream",
     "text": [
      "Este es un string \n",
      " con salto de linea\n"
     ]
    }
   ],
   "source": [
    "my_new_line_string = \"Este es un string \\n con salto de linea\" #\\n = es para hacer saltos de linea\n",
    "print(my_new_line_string)"
   ]
  },
  {
   "cell_type": "code",
   "execution_count": 15,
   "metadata": {},
   "outputs": [
    {
     "name": "stdout",
     "output_type": "stream",
     "text": [
      "\tEste es un string con tabulacion\n"
     ]
    }
   ],
   "source": [
    "my_tab_string = \"\\tEste es un string con tabulacion\" #\\t = para que el string a parececa con una tabulacion\n",
    "print(my_tab_string)\n"
   ]
  },
  {
   "cell_type": "code",
   "execution_count": 47,
   "metadata": {},
   "outputs": [
    {
     "name": "stdout",
     "output_type": "stream",
     "text": [
      "\t Este string es \n",
      " escapado\n"
     ]
    }
   ],
   "source": [
    "my_scape_string = \"\\t Este string es \\n escapado\"\n",
    "print(my_scape_string)"
   ]
  },
  {
   "cell_type": "code",
   "execution_count": 48,
   "metadata": {},
   "outputs": [
    {
     "name": "stdout",
     "output_type": "stream",
     "text": [
      "Mi nombre es Braily Roman y mi edad es 17\n",
      "Mi nombre es Braily Roman y mi edad es 17\n",
      "Mi nombre es Braily Roman y mi edad es 17\n",
      "Mi nombre es Braily Roman y mi edad es 17\n"
     ]
    }
   ],
   "source": [
    "### Formateo ###\n",
    "name,surname,age = \"Braily\", \"Roman\", 17\n",
    "\n",
    "print(f\"Mi nombre es {name} {surname} y mi edad es {age}\") #\"f-strings\" (cadenas literales formateadas)\n",
    "\n",
    "#Interpolación de cadenas\n",
    "print(\"Mi nombre es %s %s y mi edad es %d\"%(name,surname,age)) \n",
    "# %s: para los strings\n",
    "# %d para los enteros\n",
    "# %f para los floats\n",
    "#############################################################\n",
    "\n",
    "#Formateo de cadenas con el método\n",
    "print(\"Mi nombre es {} {} y mi edad es {}\".format(name,surname,age)) \n",
    "\n",
    "#Concatenación de cadenas\n",
    "print(\"Mi nombre es \"+ name +\" \"+ surname + \" y mi edad es\" +\" \"+ str(age))\n"
   ]
  },
  {
   "cell_type": "code",
   "execution_count": 75,
   "metadata": {},
   "outputs": [
    {
     "name": "stdout",
     "output_type": "stream",
     "text": [
      "python\n"
     ]
    }
   ],
   "source": [
    "##Desempaquedado de caracteres##\n",
    "lenguaje = \"python\"\n",
    "a,b,c,d,e,f = lenguaje\n",
    "\n",
    "print(f\"{a}{b}{c}{d}{e}{f}\") \n",
    "\n",
    "# 0->P\n",
    "# 1->y\n",
    "# 2->t\n",
    "# 3->h\n",
    "# 4->o\n",
    "# 5->n\n",
    "\n",
    "#Imprime por orden a=\"P\" b=\"y\" c=\"t\" d=\"h\" e=\"o\" f=\"n\"\n"
   ]
  },
  {
   "cell_type": "code",
   "execution_count": 91,
   "metadata": {},
   "outputs": [
    {
     "name": "stdout",
     "output_type": "stream",
     "text": [
      "yt\n",
      "ython\n",
      "on\n",
      "pto\n",
      "nohtyp\n",
      "Python\n",
      "PYTHON\n",
      "1\n",
      "False\n",
      "True\n",
      "python\n",
      "True\n",
      "True\n"
     ]
    }
   ],
   "source": [
    "## Division ##\n",
    "lenguaje_slice = lenguaje[1:3]\n",
    "print(lenguaje_slice)\n",
    "\n",
    "lenguaje_slice = lenguaje[1:]\n",
    "print(lenguaje_slice)\n",
    "\n",
    "lenguaje_slice = lenguaje[-2:]\n",
    "print(lenguaje_slice)\n",
    "\n",
    "lenguaje_slice = lenguaje[0:6:2]\n",
    "print(lenguaje_slice)\n",
    "\n",
    "# Reverse \n",
    "reversed_lenguaje = lenguaje[::-1]\n",
    "print(reversed_lenguaje)\n",
    "\n",
    "# Funciones\n",
    "print(lenguaje.capitalize()) #Pone la primera letra mayuscula\n",
    "print(lenguaje.upper()) #Pone todas las letras en mayusculas\n",
    "print(lenguaje.count(\"t\"))#Cuenta las veces que se repite la letra que le pasaste en el parentesis\n",
    "print(lenguaje.isnumeric())#Dice si lo que le pasas es un numero o no\n",
    "print(\"1\".isnumeric())#Dice si lo que le pasas es un numero o no\n",
    "print(lenguaje.lower())\n",
    "print(lenguaje.upper().isupper())# Es para comprovar si esta mayuscula\n",
    "print(lenguaje.startswith(\"py\"))\n"
   ]
  },
  {
   "cell_type": "code",
   "execution_count": null,
   "metadata": {},
   "outputs": [],
   "source": []
  }
 ],
 "metadata": {
  "kernelspec": {
   "display_name": "Python 3",
   "language": "python",
   "name": "python3"
  },
  "language_info": {
   "codemirror_mode": {
    "name": "ipython",
    "version": 3
   },
   "file_extension": ".py",
   "mimetype": "text/x-python",
   "name": "python",
   "nbconvert_exporter": "python",
   "pygments_lexer": "ipython3",
   "version": "3.11.3"
  },
  "orig_nbformat": 4
 },
 "nbformat": 4,
 "nbformat_minor": 2
}
