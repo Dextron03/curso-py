{
 "cells": [
  {
   "cell_type": "code",
   "execution_count": 38,
   "metadata": {},
   "outputs": [
    {
     "name": "stdout",
     "output_type": "stream",
     "text": [
      "6\n"
     ]
    }
   ],
   "source": [
    "# Operadores Aritmeticos\n",
    "print(3 + 3)\n",
    "print(3 - 3)\n",
    "print(3 * 3)\n",
    "print(3 / 3)\n",
    "print(10%2)\n",
    "print(10 // 3)\n",
    "print(3 ** 3)\n",
    "print(9*9/2**4-10+5//10%2)\n",
    "#con striang y numeros\n",
    "print(\"Braily \" + \"Roman\")\n",
    "print (\"tengo \" + str(17) + \" años\")\n",
    "print(\"Hola \" * 2)\n",
    "print(\"Mundo \" * (2**2))\n",
    "myNumber = 2.5 * 2\n",
    "print( \"Como estas\" * int(myNumber)) "
   ]
  },
  {
   "cell_type": "code",
   "execution_count": 1,
   "metadata": {},
   "outputs": [
    {
     "name": "stdout",
     "output_type": "stream",
     "text": [
      "Esta declaracion es True\n",
      "Esta declaracion es False\n",
      "Esta declaracion es False\n",
      "Esta declaracion es True\n",
      "Esta declaracion es False\n",
      "Esta declaracion es True\n",
      "Esta declaracion es False\n"
     ]
    }
   ],
   "source": [
    "# OPERADORES COMPARATIVOS\n",
    "print(f\"Esta declaracion es {5>3}\") #Mayor que >\n",
    "print(f\"Esta declaracion es {5<3}\") #Menor que >\n",
    "print(f\"Esta declaracion es {5<=3}\") #Menor igual que\n",
    "print(f\"Esta declaracion es {5>=3}\") #Mayor igual que\n",
    "print(f\"Esta declaracion es {5==3}\") #igualdad\n",
    "print(f\"Esta declaracion es {5!=3}\") #Diferencia\n",
    "print(f\"Esta declaracion es {5==5>10}\")"
   ]
  },
  {
   "cell_type": "code",
   "execution_count": 18,
   "metadata": {},
   "outputs": [
    {
     "name": "stdout",
     "output_type": "stream",
     "text": [
      "False\n",
      "True\n",
      "False\n",
      "True\n",
      "True\n",
      "True\n"
     ]
    }
   ],
   "source": [
    "##No cuenta caracteris, los organiza segun el orden alfabetico##\n",
    "print(\"Hola\">\"Python\")\n",
    "print(\"Hola\"<\"Python\")\n",
    "print(\"b\">=\"z\")#Ordenacion Alfabetica por ASCII\n",
    "print(\"Hola\"<=\"Python\")\n",
    "print(\"Hola\"==\"Hola\")\n",
    "print(\"Hola\"!=\"Python\")\n"
   ]
  },
  {
   "cell_type": "code",
   "execution_count": 24,
   "metadata": {},
   "outputs": [
    {
     "name": "stdout",
     "output_type": "stream",
     "text": [
      "True\n",
      "True\n",
      "True\n",
      "False\n"
     ]
    }
   ],
   "source": [
    "#Ahora si cuenta los caracteres\n",
    "print(len(\"aaa\")==len(\"bbb\"))\n",
    "print(len(\"aaa\")==len(\"BBB\"))\n",
    "print(len(\"AAA\")==len(\"bbb\"))\n",
    "print(len(\"AAA\")==len(\"bbbb\"))"
   ]
  },
  {
   "cell_type": "code",
   "execution_count": 12,
   "metadata": {},
   "outputs": [
    {
     "name": "stdout",
     "output_type": "stream",
     "text": [
      "False\n",
      "True\n",
      "True\n",
      "True\n",
      "False\n"
     ]
    }
   ],
   "source": [
    "##Operadores logicos##\n",
    "print(\"Hola\" == \"Braily\") #false\n",
    "print(4>2)#true\n",
    "print(\"Hola\" == \"Braily\" or 4>2)## true + false = true\n",
    "print (not(3>4))\n",
    "print (not(4>3))"
   ]
  }
 ],
 "metadata": {
  "kernelspec": {
   "display_name": "Python 3",
   "language": "python",
   "name": "python3"
  },
  "language_info": {
   "codemirror_mode": {
    "name": "ipython",
    "version": 3
   },
   "file_extension": ".py",
   "mimetype": "text/x-python",
   "name": "python",
   "nbconvert_exporter": "python",
   "pygments_lexer": "ipython3",
   "version": "3.11.3"
  },
  "orig_nbformat": 4
 },
 "nbformat": 4,
 "nbformat_minor": 2
}
