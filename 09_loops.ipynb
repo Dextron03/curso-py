{
 "cells": [
  {
   "cell_type": "code",
   "execution_count": 80,
   "metadata": {},
   "outputs": [
    {
     "name": "stdout",
     "output_type": "stream",
     "text": [
      "0\n",
      "2\n",
      "4\n",
      "6\n",
      "8\n",
      "Mi condicion es igual o mayor a 10\n"
     ]
    }
   ],
   "source": [
    "## LOOP ##\n",
    "\n",
    "#Wihile\n",
    "my_condition = 0\n",
    "\n",
    "while my_condition < 10:\n",
    "  print(my_condition)\n",
    "  my_condition += 2\n",
    "else:\n",
    "  print(\"Mi condicion es igual o mayor a 10\")\n"
   ]
  },
  {
   "cell_type": "code",
   "execution_count": 81,
   "metadata": {},
   "outputs": [
    {
     "name": "stdout",
     "output_type": "stream",
     "text": [
      "0\n",
      "2\n",
      "4\n",
      "6\n",
      "8\n",
      "Mi condicion es igual a 10\n"
     ]
    }
   ],
   "source": [
    "my_condition = 0\n",
    "\n",
    "while my_condition < 10:\n",
    "  print(my_condition)\n",
    "  my_condition += 2\n",
    "\n",
    "if my_condition == 10:\n",
    "  print(\"Mi condicion es igual a 10\")\n",
    "else:\n",
    "  print(\"Mi condicion es igual o mayor a 10\")\n",
    "  "
   ]
  },
  {
   "cell_type": "code",
   "execution_count": 82,
   "metadata": {},
   "outputs": [
    {
     "name": "stdout",
     "output_type": "stream",
     "text": [
      "10\n",
      "11\n",
      "12\n",
      "13\n",
      "14\n",
      "Se detiene la ejecucion.\n"
     ]
    }
   ],
   "source": [
    "while my_condition < 20:\n",
    "  print(my_condition)\n",
    "  my_condition +=1\n",
    "  if my_condition == 15:\n",
    "    print(\"Se detiene la ejecucion.\")\n",
    "    break"
   ]
  },
  {
   "cell_type": "code",
   "execution_count": 83,
   "metadata": {},
   "outputs": [
    {
     "name": "stdout",
     "output_type": "stream",
     "text": [
      "Elemento: 35\n",
      "Elemento: 24\n",
      "Elemento: 62\n",
      "Elemento: 52\n",
      "Elemento: 30\n",
      "Elemento: 30\n",
      "Elemento: 17\n"
     ]
    }
   ],
   "source": [
    "## FOR ##\n",
    "the_list = [35, 24, 62, 52, 30, 30, 17]\n",
    "\n",
    "for element in the_list:\n",
    "  print(f\"Elemento: {element}\")\n"
   ]
  },
  {
   "cell_type": "code",
   "execution_count": 84,
   "metadata": {},
   "outputs": [
    {
     "name": "stdout",
     "output_type": "stream",
     "text": [
      "Elemento: 35\n",
      "Elemento: 1.8\n",
      "Elemento: Braily\n",
      "Elemento: Roman\n"
     ]
    }
   ],
   "source": [
    "my_tuple = (35, 1.80, \"Braily\", \"Roman\")\n",
    "for element in my_tuple:\n",
    "  print(f\"Elemento: {element}\")\n"
   ]
  },
  {
   "cell_type": "code",
   "execution_count": 85,
   "metadata": {},
   "outputs": [
    {
     "name": "stdout",
     "output_type": "stream",
     "text": [
      "Elemento: 17\n",
      "Elemento: Braily\n",
      "Elemento: Roman\n"
     ]
    }
   ],
   "source": [
    "my_set = {\"Braily\",\"Roman\",17}\n",
    "for element in my_set:\n",
    "  print(f\"Elemento: {element}\")"
   ]
  },
  {
   "cell_type": "code",
   "execution_count": 10,
   "metadata": {},
   "outputs": [
    {
     "name": "stdout",
     "output_type": "stream",
     "text": [
      "Elemento: Nombre\n",
      "Elemento: Apellido\n",
      "Elemento: Edad\n",
      "Elemento: Lenguaje\n",
      "El blucle for usando diccionarios a terminado\n"
     ]
    }
   ],
   "source": [
    "\n",
    "my_dict = {'Nombre':\"Braily\", 'Apellido':\"Roman\", 'Edad':17,'Lenguaje':\"Python\"}\n",
    "for element in my_dict:\n",
    "  print(f\"Elemento: {element}\")\n",
    "  if element == \"Apellido\":\n",
    "    continue  #break\n",
    "  print(\"Se ejecuta\")\n",
    "else:\n",
    "  print(\"El blucle for usando diccionarios a terminado\")"
   ]
  }
 ],
 "metadata": {
  "kernelspec": {
   "display_name": "Python 3",
   "language": "python",
   "name": "python3"
  },
  "language_info": {
   "codemirror_mode": {
    "name": "ipython",
    "version": 3
   },
   "file_extension": ".py",
   "mimetype": "text/x-python",
   "name": "python",
   "nbconvert_exporter": "python",
   "pygments_lexer": "ipython3",
   "version": "3.11.3"
  },
  "orig_nbformat": 4
 },
 "nbformat": 4,
 "nbformat_minor": 2
}
