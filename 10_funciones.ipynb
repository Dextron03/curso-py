{
 "cells": [
  {
   "cell_type": "code",
   "execution_count": 5,
   "metadata": {},
   "outputs": [
    {
     "name": "stdout",
     "output_type": "stream",
     "text": [
      "Esto es una funcion\n"
     ]
    }
   ],
   "source": [
    "## FUNCIONES ##\n",
    "def My_funcion():\n",
    "  print(\"Esto es una funcion\")\n",
    "  \n",
    "My_funcion()\n"
   ]
  },
  {
   "cell_type": "code",
   "execution_count": 20,
   "metadata": {},
   "outputs": [
    {
     "name": "stdout",
     "output_type": "stream",
     "text": [
      "12\n",
      "12.6\n"
     ]
    }
   ],
   "source": [
    "def Sum_two_values(firt_v: int, sec_v: int):\n",
    "  print(firt_v + sec_v)\n",
    "  \n",
    "Sum_two_values(5, 7)\n",
    "Sum_two_values(5.3, 7.3)\n",
    "\n"
   ]
  },
  {
   "cell_type": "code",
   "execution_count": 25,
   "metadata": {},
   "outputs": [
    {
     "name": "stdout",
     "output_type": "stream",
     "text": [
      "30\n"
     ]
    }
   ],
   "source": [
    "def Sum_two_values_with_return(firt_v , sec_v):\n",
    "  \n",
    "  return firt_v + sec_v\n",
    "\n",
    "my_result = Sum_two_values_with_return(20,10)\n",
    "print(my_result)"
   ]
  },
  {
   "cell_type": "code",
   "execution_count": 33,
   "metadata": {},
   "outputs": [
    {
     "data": {
      "text/plain": [
       "20"
      ]
     },
     "execution_count": 33,
     "metadata": {},
     "output_type": "execute_result"
    }
   ],
   "source": [
    "def Sum_two_values_with_return(firt_v , sec_v):\n",
    "  my_sum = firt_v + sec_v\n",
    "  \n",
    "  return my_sum\n",
    "\n",
    "Sum_two_values_with_return(10,10)"
   ]
  },
  {
   "cell_type": "code",
   "execution_count": 31,
   "metadata": {},
   "outputs": [
    {
     "name": "stdout",
     "output_type": "stream",
     "text": [
      "Mi nombre es Braily Roman\n"
     ]
    }
   ],
   "source": [
    "def Print_name(name, surname):\n",
    "  print(f\"Mi nombre es {name} {surname}\")\n",
    "  \n",
    "\n",
    "Print_name(surname=\"Roman\", name=\"Braily\")"
   ]
  },
  {
   "cell_type": "code",
   "execution_count": 42,
   "metadata": {},
   "outputs": [
    {
     "name": "stdout",
     "output_type": "stream",
     "text": [
      "Braily\n",
      "Roman\n",
      "Sin alias\n"
     ]
    }
   ],
   "source": [
    "# Valor por defecto\n",
    "def Print_name_with_defauld(name, surname, alias=\"Sin alias\"):\n",
    "  print(f\"{name}\\n{surname}\\n{alias}\")\n",
    "  \n",
    "Print_name_with_defauld(\"Braily\", \"Roman\")"
   ]
  },
  {
   "cell_type": "code",
   "execution_count": 45,
   "metadata": {},
   "outputs": [
    {
     "name": "stdout",
     "output_type": "stream",
     "text": [
      "('Hola', 'Python', 'Roman')\n"
     ]
    }
   ],
   "source": [
    "#(*parametro): esto es para pasar los parametros que queira\n",
    "def Print_texts(*text):\n",
    "  print(text)\n",
    "  \n",
    "Print_texts(\"Hola\",\"Python\",\"Roman\")"
   ]
  }
 ],
 "metadata": {
  "kernelspec": {
   "display_name": "Python 3",
   "language": "python",
   "name": "python3"
  },
  "language_info": {
   "codemirror_mode": {
    "name": "ipython",
    "version": 3
   },
   "file_extension": ".py",
   "mimetype": "text/x-python",
   "name": "python",
   "nbconvert_exporter": "python",
   "pygments_lexer": "ipython3",
   "version": "3.11.3"
  },
  "orig_nbformat": 4
 },
 "nbformat": 4,
 "nbformat_minor": 2
}
