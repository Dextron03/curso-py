{
 "cells": [
  {
   "cell_type": "code",
   "execution_count": 8,
   "metadata": {},
   "outputs": [],
   "source": [
    "## CONDICIONALES\n",
    "# my_condition = True\n",
    "my_condition = False\n"
   ]
  },
  {
   "cell_type": "code",
   "execution_count": 7,
   "metadata": {},
   "outputs": [
    {
     "name": "stdout",
     "output_type": "stream",
     "text": [
      "Se ejecuta la condicion del if\n"
     ]
    }
   ],
   "source": [
    "if my_condition: #Es lo mismo que poner if my_condition == True:\n",
    "  print(\"Se ejecuta la condicion del if\")"
   ]
  },
  {
   "cell_type": "code",
   "execution_count": 10,
   "metadata": {},
   "outputs": [
    {
     "name": "stdout",
     "output_type": "stream",
     "text": [
      "Se ejecuta la condicion del if\n",
      "La condicion continua\n"
     ]
    }
   ],
   "source": [
    "my_condition = 5*2\n",
    "\n",
    "if my_condition == 10: \n",
    "  print(\"Se ejecuta la condicion del if\")\n",
    "  \n",
    "print(\"La condicion continua\")"
   ]
  },
  {
   "cell_type": "code",
   "execution_count": 16,
   "metadata": {},
   "outputs": [
    {
     "name": "stdout",
     "output_type": "stream",
     "text": [
      "Es mayor que 10\n",
      "La condicion continua\n"
     ]
    }
   ],
   "source": [
    "my_condition = 5*3\n",
    "\n",
    "if my_condition > 10 and my_condition < 20: \n",
    "  print(\"Es mayor que 10\")\n",
    "else:\n",
    "  print(\"Es menor o igual que 10 o mayor o igual a 20\")\n",
    "  \n",
    "print(\"La condicion continua\")"
   ]
  },
  {
   "cell_type": "code",
   "execution_count": 19,
   "metadata": {},
   "outputs": [
    {
     "name": "stdout",
     "output_type": "stream",
     "text": [
      "Es igual a 25\n",
      "La condicion continua\n"
     ]
    }
   ],
   "source": [
    "my_condition = 5*5\n",
    "\n",
    "if my_condition > 10 and my_condition < 20: \n",
    "  print(\"Es mayor que 10 y menor que 20\")\n",
    "elif my_condition == 25:\n",
    "  print(\"Es igual a 25\")\n",
    "else:\n",
    "  print(\"Es menor o igual que 10 o mayor o igual a 20 o distinto de 25\")\n",
    "  \n",
    "print(\"La condicion continua\")"
   ]
  },
  {
   "cell_type": "code",
   "execution_count": 28,
   "metadata": {},
   "outputs": [
    {
     "name": "stdout",
     "output_type": "stream",
     "text": [
      "My cadena de texto no esta vacia\n"
     ]
    }
   ],
   "source": [
    "my_string = \"Hola mundo\"\n",
    "\n",
    "if my_string:\n",
    "  print(\"My cadena de texto no esta vacia\")\n",
    "else:\n",
    "  print(\"False\")"
   ]
  },
  {
   "cell_type": "code",
   "execution_count": 29,
   "metadata": {},
   "outputs": [
    {
     "name": "stdout",
     "output_type": "stream",
     "text": [
      "My cadena de texto no esta vacia\n"
     ]
    }
   ],
   "source": [
    "my_string = \"My cadena de texto no esta vacia\"\n",
    "\n",
    "if my_string:\n",
    "  print(\"My cadena de texto no esta vacia\")\n",
    "else:\n",
    "  print(\"False\")"
   ]
  },
  {
   "cell_type": "code",
   "execution_count": 38,
   "metadata": {},
   "outputs": [
    {
     "name": "stdout",
     "output_type": "stream",
     "text": [
      "La cadena es esta vacia\n"
     ]
    }
   ],
   "source": [
    "the_string = \"\"\n",
    "\n",
    "if len(the_string) == 0 or the_string == \"\":\n",
    "  print(f\"La cadena es esta vacia\")\n",
    "else:\n",
    "  print(f\"La cadena tiene {len(the_string)} caracteres\")"
   ]
  }
 ],
 "metadata": {
  "kernelspec": {
   "display_name": "Python 3",
   "language": "python",
   "name": "python3"
  },
  "language_info": {
   "codemirror_mode": {
    "name": "ipython",
    "version": 3
   },
   "file_extension": ".py",
   "mimetype": "text/x-python",
   "name": "python",
   "nbconvert_exporter": "python",
   "pygments_lexer": "ipython3",
   "version": "3.11.3"
  },
  "orig_nbformat": 4
 },
 "nbformat": 4,
 "nbformat_minor": 2
}
