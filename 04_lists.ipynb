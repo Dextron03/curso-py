{
 "cells": [
  {
   "cell_type": "code",
   "execution_count": 173,
   "metadata": {},
   "outputs": [],
   "source": [
    "### Lists ###\n",
    "\n",
    "# Definición\n",
    "\n",
    "my_list = list()\n",
    "my_other_list = []\n"
   ]
  },
  {
   "cell_type": "code",
   "execution_count": 174,
   "metadata": {},
   "outputs": [
    {
     "name": "stdout",
     "output_type": "stream",
     "text": [
      "0\n",
      "[35, 24, 62, 52, 30, 30, 17]\n",
      "7\n"
     ]
    }
   ],
   "source": [
    "\n",
    "\n",
    "print(len(my_list))\n",
    "\n",
    "my_list = [35, 24, 62, 52, 30, 30, 17]\n",
    "\n",
    "print(my_list)\n",
    "print(len(my_list))\n"
   ]
  },
  {
   "cell_type": "code",
   "execution_count": 175,
   "metadata": {},
   "outputs": [
    {
     "name": "stdout",
     "output_type": "stream",
     "text": [
      "<class 'list'>\n",
      "<class 'list'>\n"
     ]
    }
   ],
   "source": [
    "\n",
    "my_other_list = [35, 1.77, \"Brais\", \"Moure\"]\n",
    "\n",
    "print(type(my_list))\n",
    "print(type(my_other_list))\n"
   ]
  },
  {
   "cell_type": "code",
   "execution_count": 176,
   "metadata": {},
   "outputs": [
    {
     "name": "stdout",
     "output_type": "stream",
     "text": [
      "35\n",
      "1.77\n",
      "Moure\n",
      "35\n",
      "2\n"
     ]
    }
   ],
   "source": [
    "\n",
    "# Acceso a elementos y búsqueda\n",
    "\n",
    "print(my_other_list[0])\n",
    "print(my_other_list[1])\n",
    "print(my_other_list[-1])\n",
    "print(my_other_list[-4])\n",
    "print(my_list.count(30))\n",
    "# print(my_other_list[4]) IndexError\n",
    "# print(my_other_list[-5]) IndexError\n"
   ]
  },
  {
   "cell_type": "code",
   "execution_count": 177,
   "metadata": {},
   "outputs": [
    {
     "name": "stdout",
     "output_type": "stream",
     "text": [
      "2\n",
      "Brais\n",
      "35\n"
     ]
    }
   ],
   "source": [
    "\n",
    "\n",
    "print(my_other_list.index(\"Brais\"))\n",
    "\n",
    "age, height, name, surname = my_other_list\n",
    "print(name)\n",
    "\n",
    "name, height, age, surname = my_other_list[2], my_other_list[1], my_other_list[0], my_other_list[3]\n",
    "print(age)\n"
   ]
  },
  {
   "cell_type": "code",
   "execution_count": 178,
   "metadata": {},
   "outputs": [
    {
     "name": "stdout",
     "output_type": "stream",
     "text": [
      "[35, 24, 62, 52, 30, 30, 17, 35, 1.77, 'Brais', 'Moure']\n"
     ]
    }
   ],
   "source": [
    "\n",
    "\n",
    "# Concatenación\n",
    "\n",
    "print(my_list + my_other_list)\n",
    "#print(my_list - my_other_list)\n"
   ]
  },
  {
   "cell_type": "code",
   "execution_count": 179,
   "metadata": {},
   "outputs": [
    {
     "name": "stdout",
     "output_type": "stream",
     "text": [
      "[35, 1.77, 'Brais', 'Moure', 'MoureDev']\n",
      "[35, 'Rojo', 1.77, 'Brais', 'Moure', 'MoureDev']\n",
      "[35, 'Azul', 1.77, 'Brais', 'Moure', 'MoureDev']\n",
      "[35, 1.77, 'Brais', 'Moure', 'MoureDev']\n",
      "[35, 24, 62, 52, 30, 17]\n",
      "17\n",
      "[35, 24, 62, 52, 30]\n",
      "62\n",
      "[35, 24, 52, 30]\n",
      "[35, 24, 30]\n"
     ]
    }
   ],
   "source": [
    "\n",
    "# Creación, inserción, actualización y eliminación\n",
    "\n",
    "my_other_list.append(\"MoureDev\")\n",
    "print(my_other_list)\n",
    "\n",
    "my_other_list.insert(1, \"Rojo\")\n",
    "print(my_other_list)\n",
    "\n",
    "my_other_list[1] = \"Azul\"\n",
    "print(my_other_list)\n",
    "\n",
    "my_other_list.remove(\"Azul\")\n",
    "print(my_other_list)\n",
    "\n",
    "my_list.remove(30)\n",
    "print(my_list)\n",
    "\n",
    "print(my_list.pop())\n",
    "print(my_list)\n",
    "\n",
    "my_pop_element = my_list.pop(2)\n",
    "print(my_pop_element)\n",
    "print(my_list)\n",
    "\n",
    "del my_list[2]\n",
    "print(my_list)\n",
    "\n"
   ]
  },
  {
   "cell_type": "code",
   "execution_count": 180,
   "metadata": {},
   "outputs": [
    {
     "name": "stdout",
     "output_type": "stream",
     "text": [
      "[]\n",
      "[35, 24, 30]\n",
      "[30, 24, 35]\n",
      "[24, 30, 35]\n"
     ]
    }
   ],
   "source": [
    "\n",
    "\n",
    "# Operaciones con listas\n",
    "\n",
    "my_new_list = my_list.copy()\n",
    "\n",
    "my_list.clear()\n",
    "print(my_list)\n",
    "print(my_new_list)\n",
    "\n",
    "my_new_list.reverse()\n",
    "print(my_new_list)\n",
    "\n",
    "my_new_list.sort()\n",
    "print(my_new_list)\n",
    "\n"
   ]
  },
  {
   "cell_type": "code",
   "execution_count": 181,
   "metadata": {},
   "outputs": [
    {
     "name": "stdout",
     "output_type": "stream",
     "text": [
      "[30, 35]\n"
     ]
    }
   ],
   "source": [
    "\n",
    "\n",
    "# Sublistas\n",
    "\n",
    "print(my_new_list[1:3])\n"
   ]
  },
  {
   "cell_type": "code",
   "execution_count": 182,
   "metadata": {},
   "outputs": [
    {
     "name": "stdout",
     "output_type": "stream",
     "text": [
      "Hola Python\n",
      "<class 'str'>\n"
     ]
    }
   ],
   "source": [
    "\n",
    "# Cambio de tipo\n",
    "\n",
    "my_list = \"Hola Python\"\n",
    "print(my_list)\n",
    "print(type(my_list))"
   ]
  },
  {
   "cell_type": "code",
   "execution_count": 183,
   "metadata": {},
   "outputs": [
    {
     "name": "stdout",
     "output_type": "stream",
     "text": [
      "['Cuadernos', 'Agua', 200, ['Lapicez', 'Borra', 'Lapicero Rojo', 'Lapicero Azul', 'Lapicero Negro']]\n"
     ]
    }
   ],
   "source": [
    "cartuchera = [\"Lapicez\",\"Borra\", \"Lapicero Rojo\", \"Lapicero Azul\", \"Lapicero Negro\"]\n",
    "mochila = [\"Cuadernos\", \"Agua\", 200, cartuchera]\n",
    "print(mochila)"
   ]
  },
  {
   "cell_type": "code",
   "execution_count": 199,
   "metadata": {},
   "outputs": [
    {
     "name": "stdout",
     "output_type": "stream",
     "text": [
      "['agua', 'cuaderno', 200]\n"
     ]
    }
   ],
   "source": [
    "\n",
    "\"\"\" mochila.insert(0,\"agua\") \"\"\"\n",
    "del cartuchera[3]\n",
    "print(mochila)\n"
   ]
  },
  {
   "cell_type": "code",
   "execution_count": 218,
   "metadata": {},
   "outputs": [
    {
     "name": "stdout",
     "output_type": "stream",
     "text": [
      "[]\n",
      "['Lapicez', 'Lapicero Rojo', 500]\n",
      "['Lapicez', 'Lapicero Rojo', 500]\n",
      "['Lapicero Rojo', 500]\n"
     ]
    }
   ],
   "source": [
    "mochila.clear()\n",
    "print(mochila)\n",
    "\n",
    "print(cartuchera)\n",
    "\n",
    "zapatos = cartuchera.copy()\n",
    "\n",
    "print(zapatos)\n",
    "\n",
    "print(cartuchera[1:3])"
   ]
  },
  {
   "cell_type": "code",
   "execution_count": 3,
   "metadata": {},
   "outputs": [
    {
     "name": "stdout",
     "output_type": "stream",
     "text": [
      "Li\n"
     ]
    }
   ],
   "source": [
    "#IBM Python101\n",
    "\"0123456\".find('1')\n"
   ]
  },
  {
   "cell_type": "code",
   "execution_count": 4,
   "metadata": {},
   "outputs": [
    {
     "name": "stdout",
     "output_type": "stream",
     "text": [
      "Li\n"
     ]
    }
   ],
   "source": [
    "\n",
    "name = \"Lizz\"\n",
    "print(name[0:2])"
   ]
  },
  {
   "cell_type": "code",
   "execution_count": 7,
   "metadata": {},
   "outputs": [
    {
     "name": "stdout",
     "output_type": "stream",
     "text": [
      "0246\n"
     ]
    }
   ],
   "source": [
    "var = '01234567'\n",
    "print(var[::2])"
   ]
  },
  {
   "cell_type": "code",
   "execution_count": 12,
   "metadata": {},
   "outputs": [
    {
     "name": "stdout",
     "output_type": "stream",
     "text": [
      "3\n",
      "3\n",
      "<class 'tuple'>\n"
     ]
    }
   ],
   "source": [
    "A=(0,1,2,3)\n",
    "print(A[3])\n",
    "print(A[-1])\n",
    "print(type(A))"
   ]
  },
  {
   "cell_type": "code",
   "execution_count": 13,
   "metadata": {},
   "outputs": [
    {
     "data": {
      "text/plain": [
       "['b', 'c']"
      ]
     },
     "execution_count": 13,
     "metadata": {},
     "output_type": "execute_result"
    }
   ],
   "source": [
    "B=[\"a\",\"b\",\"c\"]\n",
    "B[1:]"
   ]
  },
  {
   "cell_type": "code",
   "execution_count": 14,
   "metadata": {},
   "outputs": [
    {
     "data": {
      "text/plain": [
       "{'A', 'B', 'C', 'Z'}"
      ]
     },
     "execution_count": 14,
     "metadata": {},
     "output_type": "execute_result"
    }
   ],
   "source": [
    "S={'A','B','C'}\n",
    "\n",
    "U={'A','Z','C'}\n",
    "\n",
    "U.union(S)"
   ]
  },
  {
   "cell_type": "code",
   "execution_count": 17,
   "metadata": {},
   "outputs": [
    {
     "name": "stdout",
     "output_type": "stream",
     "text": [
      "{'C', 'A'}\n"
     ]
    }
   ],
   "source": [
    "S={'A','B','C'}\n",
    "\n",
    "U={'A','Z','C'}\n",
    "\n",
    "su = S & U\n",
    "\n",
    "print(su)\n",
    "\n"
   ]
  },
  {
   "cell_type": "code",
   "execution_count": 18,
   "metadata": {},
   "outputs": [
    {
     "data": {
      "text/plain": [
       "dict_values([0, 1, 2])"
      ]
     },
     "execution_count": 18,
     "metadata": {},
     "output_type": "execute_result"
    }
   ],
   "source": [
    "D = {'a':0,'b':1,'c':2}\n",
    "\n",
    "D.values()"
   ]
  },
  {
   "cell_type": "code",
   "execution_count": 19,
   "metadata": {},
   "outputs": [
    {
     "data": {
      "text/plain": [
       "(4, 4, 4)"
      ]
     },
     "execution_count": 19,
     "metadata": {},
     "output_type": "execute_result"
    }
   ],
   "source": [
    "Dict={\"A\":1,\"B\":\"2\",\"C\":[3,3,3],\"D\":(4,4,4),'E':5,'F':6}\n",
    "Dict[\"D\"]\n"
   ]
  },
  {
   "cell_type": "code",
   "execution_count": 23,
   "metadata": {},
   "outputs": [
    {
     "name": "stdout",
     "output_type": "stream",
     "text": [
      "3\n",
      "4\n",
      "5\n"
     ]
    }
   ],
   "source": [
    "A=[3,4,5]\n",
    "\n",
    "for a in A:\n",
    "  print(a)"
   ]
  },
  {
   "cell_type": "code",
   "execution_count": 25,
   "metadata": {},
   "outputs": [
    {
     "name": "stdout",
     "output_type": "stream",
     "text": [
      "1\n",
      "2\n"
     ]
    }
   ],
   "source": [
    "x=3\n",
    "\n",
    "y=1\n",
    "\n",
    "while(y!=x):\n",
    "  print(y)\n",
    "  y=y+1"
   ]
  },
  {
   "cell_type": "code",
   "execution_count": 29,
   "metadata": {},
   "outputs": [
    {
     "name": "stdout",
     "output_type": "stream",
     "text": [
      "Eres menor de edad\n"
     ]
    }
   ],
   "source": [
    "edad = 17\n",
    "\n",
    "def Mayor_menor():\n",
    "  if edad >= 18:\n",
    "    print(\"Eres mayor de edad\")\n",
    "  else:\n",
    "    print(\"Eres menor de edad\")\n",
    "\n",
    "Mayor_menor()"
   ]
  }
 ],
 "metadata": {
  "kernelspec": {
   "display_name": "Python 3",
   "language": "python",
   "name": "python3"
  },
  "language_info": {
   "codemirror_mode": {
    "name": "ipython",
    "version": 3
   },
   "file_extension": ".py",
   "mimetype": "text/x-python",
   "name": "python",
   "nbconvert_exporter": "python",
   "pygments_lexer": "ipython3",
   "version": "3.11.3"
  },
  "orig_nbformat": 4
 },
 "nbformat": 4,
 "nbformat_minor": 2
}
