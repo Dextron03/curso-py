{
 "cells": [
  {
   "cell_type": "code",
   "execution_count": 42,
   "metadata": {},
   "outputs": [
    {
     "name": "stdout",
     "output_type": "stream",
     "text": [
      "<class 'dict'>\n",
      "<class 'dict'>\n"
     ]
    }
   ],
   "source": [
    "## Diccionarios\n",
    "my_dict = dict()\n",
    "my_other_dict = {}\n",
    "print(type(my_dict))\n",
    "print(type(my_other_dict))\n"
   ]
  },
  {
   "cell_type": "code",
   "execution_count": 43,
   "metadata": {},
   "outputs": [],
   "source": [
    "my_other_dict = {'Nombre':\"Braily\", 'Apellido':\"Roman\", 'Edad':17,'Lenguaje':\"Python\"}\n",
    "\n",
    "my_dict = {'Nombre':\"Braily\",\n",
    "           'Apellido':\"Roman\",\n",
    "           'Edad':17,\n",
    "           'Lenguajes':{\"Python\",\"PHP\",\"C#\"},\n",
    "           1: 1.80\n",
    "           }"
   ]
  },
  {
   "cell_type": "code",
   "execution_count": 44,
   "metadata": {},
   "outputs": [
    {
     "name": "stdout",
     "output_type": "stream",
     "text": [
      "{'Nombre': 'Braily', 'Apellido': 'Roman', 'Edad': 17, 'Lenguajes': {'PHP', 'C#', 'Python'}, 1: 1.8}\n",
      "{'Nombre': 'Braily', 'Apellido': 'Roman', 'Edad': 17, 'Lenguaje': 'Python'}\n"
     ]
    }
   ],
   "source": [
    "print(my_dict)\n",
    "print(my_other_dict)"
   ]
  },
  {
   "cell_type": "code",
   "execution_count": 45,
   "metadata": {},
   "outputs": [
    {
     "name": "stdout",
     "output_type": "stream",
     "text": [
      "4\n",
      "5\n"
     ]
    }
   ],
   "source": [
    "print(len(my_other_dict))\n",
    "print(len(my_dict))"
   ]
  },
  {
   "cell_type": "code",
   "execution_count": 46,
   "metadata": {},
   "outputs": [
    {
     "name": "stdout",
     "output_type": "stream",
     "text": [
      "Braily\n",
      "Pepe\n",
      "{'Nombre': 'Pepe', 'Apellido': 'Roman', 'Edad': 17, 'Lenguajes': {'PHP', 'C#', 'Python'}, 1: 1.8}\n"
     ]
    }
   ],
   "source": [
    "print(my_dict['Nombre'])\n",
    "\n",
    "my_dict['Nombre'] = \"Pepe\"\n",
    "\n",
    "print(my_dict['Nombre'])\n",
    "\n",
    "print(my_dict)\n"
   ]
  },
  {
   "cell_type": "code",
   "execution_count": 47,
   "metadata": {},
   "outputs": [
    {
     "name": "stdout",
     "output_type": "stream",
     "text": [
      "1.8\n",
      "{'Nombre': 'Pepe', 'Apellido': 'Roman', 'Edad': 17, 'Lenguajes': {'PHP', 'C#', 'Python'}, 1: 1.8, 'Calle': 'Manolo Tavarez'}\n"
     ]
    }
   ],
   "source": [
    "\n",
    "print(my_dict[1])\n",
    "my_dict['Calle'] = \"Manolo Tavarez\"\n",
    "print(my_dict)"
   ]
  },
  {
   "cell_type": "code",
   "execution_count": 48,
   "metadata": {},
   "outputs": [
    {
     "name": "stdout",
     "output_type": "stream",
     "text": [
      "{'Nombre': 'Pepe', 'Apellido': 'Roman', 'Edad': 17, 'Lenguajes': {'PHP', 'C#', 'Python'}, 1: 1.8}\n"
     ]
    }
   ],
   "source": [
    "del my_dict['Calle']\n",
    "print(my_dict)"
   ]
  },
  {
   "cell_type": "code",
   "execution_count": 49,
   "metadata": {},
   "outputs": [
    {
     "name": "stdout",
     "output_type": "stream",
     "text": [
      "{'Nombre': 'Braily', 'Apellido': 'Roman', 'Edad': 17, 'Lenguajes': {'PHP', 'C#', 'Python'}, 1: 1.8}\n",
      "False\n",
      "True\n"
     ]
    }
   ],
   "source": [
    "my_dict['Nombre'] = \"Braily\"\n",
    "print(my_dict)\n",
    "print(\"Braily\" in my_dict)\n",
    "print(\"Nombre\" in my_dict)\n",
    "\n"
   ]
  },
  {
   "cell_type": "code",
   "execution_count": 56,
   "metadata": {},
   "outputs": [
    {
     "name": "stdout",
     "output_type": "stream",
     "text": [
      "dict_items([('Nombre', 'Braily'), ('Apellido', 'Roman'), ('Edad', 17), ('Lenguajes', {'PHP', 'C#', 'Python'}), (1, 1.8)])\n",
      "dict_keys(['Nombre', 'Apellido', 'Edad', 'Lenguajes', 1])\n",
      "dict_values(['Braily', 'Roman', 17, {'PHP', 'C#', 'Python'}, 1.8])\n",
      "{'Nombre': None, 'Apellido': None, 'Piso': None}\n"
     ]
    }
   ],
   "source": [
    "print(my_dict.items())\n",
    "print(my_dict.keys())\n",
    "print(my_dict.values())\n",
    "\n",
    "my_list = [\"Nombre\",\"Apellido\",\"Piso\"]\n",
    "\n",
    "my_new_dict = dict.fromkeys((\"Nombre\",\"Apellido\",\"Piso\"))\n",
    "print(my_new_dict)\n"
   ]
  },
  {
   "cell_type": "code",
   "execution_count": 57,
   "metadata": {},
   "outputs": [
    {
     "name": "stdout",
     "output_type": "stream",
     "text": [
      "{'Nombre': None, 'Apellido': None, 'Edad': None, 'Lenguajes': None, 1: None}\n"
     ]
    }
   ],
   "source": [
    "my_new_dict = dict.fromkeys((my_dict))\n",
    "print(my_new_dict)"
   ]
  },
  {
   "cell_type": "code",
   "execution_count": 63,
   "metadata": {},
   "outputs": [
    {
     "name": "stdout",
     "output_type": "stream",
     "text": [
      "{'Nombre': 'Braily', 'Apellido': 'Roman', 'Edad': 17, 'Lenguaje': 'Python'}\n",
      "{'Nombre': None, 'Apellido': None, 'Edad': None, 'Lenguaje': None}\n"
     ]
    }
   ],
   "source": [
    "print(my_other_dict)\n",
    "#Cree una copia de un diccionario pero sin los valores\n",
    "my_other_new_dict = dict.fromkeys(my_other_dict)\n",
    "print(my_other_new_dict)"
   ]
  }
 ],
 "metadata": {
  "kernelspec": {
   "display_name": "Python 3",
   "language": "python",
   "name": "python3"
  },
  "language_info": {
   "codemirror_mode": {
    "name": "ipython",
    "version": 3
   },
   "file_extension": ".py",
   "mimetype": "text/x-python",
   "name": "python",
   "nbconvert_exporter": "python",
   "pygments_lexer": "ipython3",
   "version": "3.11.3"
  },
  "orig_nbformat": 4
 },
 "nbformat": 4,
 "nbformat_minor": 2
}
