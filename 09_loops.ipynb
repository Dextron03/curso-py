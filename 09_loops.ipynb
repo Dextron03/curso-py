{
 "cells": [
  {
   "cell_type": "code",
   "execution_count": 12,
   "metadata": {},
   "outputs": [
    {
     "name": "stdout",
     "output_type": "stream",
     "text": [
      "0\n",
      "2\n",
      "4\n",
      "6\n",
      "8\n",
      "La ejecucion continua\n"
     ]
    }
   ],
   "source": [
    "## LOOP ##\n",
    "\n",
    "#Wihile\n",
    "my_condition = 0\n",
    "\n",
    "while my_condition < 10:\n",
    "  print(my_condition)\n",
    "  my_condition += 2\n",
    "  \n",
    "print(\"La ejecucion continua\")"
   ]
  }
 ],
 "metadata": {
  "kernelspec": {
   "display_name": "Python 3",
   "language": "python",
   "name": "python3"
  },
  "language_info": {
   "codemirror_mode": {
    "name": "ipython",
    "version": 3
   },
   "file_extension": ".py",
   "mimetype": "text/x-python",
   "name": "python",
   "nbconvert_exporter": "python",
   "pygments_lexer": "ipython3",
   "version": "3.11.3"
  },
  "orig_nbformat": 4
 },
 "nbformat": 4,
 "nbformat_minor": 2
}
